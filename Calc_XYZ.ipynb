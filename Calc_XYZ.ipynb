{
  "nbformat": 4,
  "nbformat_minor": 0,
  "metadata": {
    "colab": {
      "provenance": []
    },
    "kernelspec": {
      "name": "python3",
      "display_name": "Python 3"
    },
    "language_info": {
      "name": "python"
    }
  },
  "cells": [
    {
      "cell_type": "code",
      "execution_count": null,
      "metadata": {
        "colab": {
          "base_uri": "https://localhost:8080/"
        },
        "id": "GVLFgMku0mkt",
        "outputId": "090395f7-c1a3-4494-fe01-26b1e49e97ec"
      },
      "outputs": [
        {
          "output_type": "stream",
          "name": "stdout",
          "text": [
            "204.97755021113028\n",
            "205.72549497289526\n",
            "212.39306389240804\n"
          ]
        }
      ],
      "source": [
        "import numpy as np\n",
        "import pandas as pd\n",
        "import matplotlib.pyplot as plt\n",
        "\n",
        "xhat = pd.read_excel('x2_10deg_05.xlsx')\n",
        "yhat = pd.read_excel('y2_10deg_05.xlsx')\n",
        "zhat = pd.read_excel('z2deg_05.xlsx')\n",
        "I = pd.read_excel('Color_checher_gamin_22-10-2015.xls','Feuil19')\n",
        "S = pd.read_excel('Color_checher_gamin_22-10-2015.xls','Feuil19')\n",
        "\n",
        "\n",
        "xhat = xhat.iloc[1:82,1]\n",
        "yhat = yhat.iloc[1:82,1]\n",
        "zhat = zhat.iloc[1:82,1]\n",
        "I = I.iloc[1:82,1]\n",
        "S = S.iloc[1:82,1]\n",
        "\n",
        "N = np.sum(np.multiply(np.multiply(yhat,I),5))\n",
        "X = (1/N)*np.sum(np.multiply(np.multiply(np.multiply(xhat,I),S),5))\n",
        "Y = (1/N)*np.sum(np.multiply(np.multiply(np.multiply(yhat,I),S),5))\n",
        "Z = (1/N)*np.sum(np.multiply(np.multiply(np.multiply(zhat,I),S),5))\n",
        "\n",
        "print(X)\n",
        "print(Y)\n",
        "print(Z)\n"
      ]
    }
  ]
}